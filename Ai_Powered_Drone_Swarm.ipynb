{
  "nbformat": 4,
  "nbformat_minor": 0,
  "metadata": {
    "colab": {
      "provenance": [],
      "include_colab_link": true
    },
    "kernelspec": {
      "name": "python3",
      "display_name": "Python 3"
    },
    "language_info": {
      "name": "python"
    }
  },
  "cells": [
    {
      "cell_type": "markdown",
      "metadata": {
        "id": "view-in-github",
        "colab_type": "text"
      },
      "source": [
        "<a href=\"https://colab.research.google.com/github/kuswri/Amazon-clone/blob/main/Ai_Powered_Drone_Swarm.ipynb\" target=\"_parent\"><img src=\"https://colab.research.google.com/assets/colab-badge.svg\" alt=\"Open In Colab\"/></a>"
      ]
    },
    {
      "cell_type": "code",
      "source": [
        "# First, install dependencies in the correct order\n",
        "%%capture\n",
        "!pip install --upgrade pip\n",
        "!pip install pandas numpy torch torchvision\n",
        "!pip install gymnasium\n",
        "!pip install stable-baselines3\n",
        "!pip install opencv-python\n",
        "\n",
        "# Restart runtime after installation\n",
        "import os\n",
        "os.kill(os.getpid(), 9)"
      ],
      "metadata": {
        "id": "9Vf8d1aDpeIh"
      },
      "execution_count": null,
      "outputs": []
    },
    {
      "cell_type": "code",
      "source": [
        "import numpy as np\n",
        "import torch\n",
        "import cv2\n",
        "import gymnasium as gym\n",
        "from dataclasses import dataclass\n",
        "from typing import List, Tuple, Dict, Optional\n",
        "import logging\n",
        "import threading\n",
        "import queue\n",
        "import time\n",
        "from stable_baselines3 import PPO\n",
        "from stable_baselines3.common.vec_env import DummyVecEnv\n",
        "\n",
        "# Configure logging\n",
        "logging.basicConfig(level=logging.INFO)\n",
        "logger = logging.getLogger(__name__)\n",
        "\n",
        "# Verify imports are working\n",
        "print(\"Imports successful!\")\n",
        "print(f\"Torch version: {torch.__version__}\")\n",
        "print(f\"Gym version: {gym.__version__}\")\n",
        "print(f\"OpenCV version: {cv2.__version__}\")"
      ],
      "metadata": {
        "colab": {
          "base_uri": "https://localhost:8080/"
        },
        "id": "0seX4yDFqUPN",
        "outputId": "0073767a-a868-453c-b8dd-a4a9b68a8488"
      },
      "execution_count": null,
      "outputs": [
        {
          "output_type": "stream",
          "name": "stdout",
          "text": [
            "Imports successful!\n",
            "Torch version: 2.5.1+cu124\n",
            "Gym version: 1.0.0\n",
            "OpenCV version: 4.11.0\n"
          ]
        }
      ]
    },
    {
      "cell_type": "code",
      "source": [
        "# Data structures for the drone swarm system\n",
        "@dataclass\n",
        "class SensorData:\n",
        "    \"\"\"Data structure for drone sensor readings\"\"\"\n",
        "    timestamp: float\n",
        "    position: Tuple[float, float, float]\n",
        "    velocity: Tuple[float, float, float]\n",
        "    orientation: Tuple[float, float, float]\n",
        "    battery_level: float\n",
        "    camera_data: Optional[np.ndarray] = None\n",
        "\n",
        "@dataclass\n",
        "class DroneConfig:\n",
        "    \"\"\"Configuration parameters for individual drones\"\"\"\n",
        "    drone_id: str\n",
        "    initial_position: Tuple[float, float, float]\n",
        "    max_velocity: float = 5.0\n",
        "    max_altitude: float = 100.0\n",
        "    sensor_update_rate: float = 0.1  # seconds\n",
        "\n",
        "class DroneEnvironment(gym.Env):\n",
        "    \"\"\"Custom environment for drone reinforcement learning\"\"\"\n",
        "    def __init__(self):\n",
        "        super().__init__()\n",
        "        # Define action space: [dx, dy, dz] for movement in 3D space\n",
        "        self.action_space = gym.spaces.Box(\n",
        "            low=-1.0,\n",
        "            high=1.0,\n",
        "            shape=(3,),\n",
        "            dtype=np.float32\n",
        "        )\n",
        "\n",
        "        # Define observation space: [position(3), velocity(3), orientation(3)]\n",
        "        self.observation_space = gym.spaces.Box(\n",
        "            low=-np.inf,\n",
        "            high=np.inf,\n",
        "            shape=(9,),\n",
        "            dtype=np.float32\n",
        "        )\n",
        "\n",
        "        self.state = np.zeros(9, dtype=np.float32)\n",
        "        self.target_position = np.random.uniform(-10, 10, 3)\n",
        "\n",
        "    def reset(self, seed=None):\n",
        "        super().reset(seed=seed)\n",
        "        self.state = np.zeros(9, dtype=np.float32)\n",
        "        self.target_position = np.random.uniform(-10, 10, 3)\n",
        "        return self.state, {}\n",
        "\n",
        "    def step(self, action):\n",
        "        # Update position based on action\n",
        "        self.state[:3] += action\n",
        "\n",
        "        # Simple physics simulation (velocity decay)\n",
        "        self.state[3:6] = action * 0.8  # Current velocity\n",
        "\n",
        "        # Calculate reward based on distance to target\n",
        "        distance = np.linalg.norm(self.state[:3] - self.target_position)\n",
        "        reward = -distance  # Negative distance as reward\n",
        "\n",
        "        # Check if done\n",
        "        done = distance < 0.1\n",
        "\n",
        "        return self.state, reward, done, False, {}\n",
        "\n",
        "# Test the environment\n",
        "def test_environment():\n",
        "    env = DroneEnvironment()\n",
        "    obs, _ = env.reset()\n",
        "\n",
        "    print(\"Initial observation:\", obs)\n",
        "    action = env.action_space.sample()\n",
        "    print(\"Random action:\", action)\n",
        "\n",
        "    next_obs, reward, done, _, info = env.step(action)\n",
        "    print(\"Next observation:\", next_obs)\n",
        "    print(\"Reward:\", reward)\n",
        "    print(\"Done:\", done)\n",
        "\n",
        "if __name__ == \"__main__\":\n",
        "    print(\"Testing DroneEnvironment...\")\n",
        "    test_environment()"
      ],
      "metadata": {
        "colab": {
          "base_uri": "https://localhost:8080/"
        },
        "id": "j4YyTOjwqczn",
        "outputId": "456b0ad1-aee0-4d4b-f995-58c5735aaa43"
      },
      "execution_count": null,
      "outputs": [
        {
          "output_type": "stream",
          "name": "stdout",
          "text": [
            "Testing DroneEnvironment...\n",
            "Initial observation: [0. 0. 0. 0. 0. 0. 0. 0. 0.]\n",
            "Random action: [-0.5321114  0.6148465  0.2523371]\n",
            "Next observation: [-0.5321114   0.6148465   0.2523371  -0.42568913  0.49187723  0.20186968\n",
            "  0.          0.          0.        ]\n",
            "Reward: -8.331953934503957\n",
            "Done: False\n"
          ]
        }
      ]
    },
    {
      "cell_type": "code",
      "source": [
        "class DroneController:\n",
        "    \"\"\"Controller for individual drone units\"\"\"\n",
        "    def __init__(self, config: DroneConfig):\n",
        "        self.config = config\n",
        "        self.position = np.array(config.initial_position, dtype=np.float32)\n",
        "        self.velocity = np.zeros(3, dtype=np.float32)\n",
        "        self.orientation = np.zeros(3, dtype=np.float32)\n",
        "        self.status = \"initialized\"\n",
        "\n",
        "        # Initialize RL environment and agent\n",
        "        self.env = DroneEnvironment()\n",
        "        self.model = PPO(\"MlpPolicy\", self.env, verbose=0)\n",
        "\n",
        "        # Control loop setup\n",
        "        self.running = False\n",
        "        self.control_thread = None\n",
        "        self._setup_control_loop()\n",
        "\n",
        "    def _setup_control_loop(self):\n",
        "        \"\"\"Setup the control loop thread\"\"\"\n",
        "        self.control_thread = threading.Thread(\n",
        "            target=self._control_loop,\n",
        "            daemon=True\n",
        "        )\n",
        "\n",
        "    def _control_loop(self):\n",
        "        \"\"\"Main control loop for drone operations\"\"\"\n",
        "        while self.running:\n",
        "            try:\n",
        "                # Get current state\n",
        "                state = np.concatenate([\n",
        "                    self.position,\n",
        "                    self.velocity,\n",
        "                    self.orientation\n",
        "                ])\n",
        "\n",
        "                # Get action from RL model\n",
        "                action, _ = self.model.predict(state, deterministic=True)\n",
        "\n",
        "                # Update drone state\n",
        "                self.position += action * self.config.sensor_update_rate\n",
        "                self.velocity = action\n",
        "\n",
        "                # Enforce constraints\n",
        "                self.position[2] = np.clip(\n",
        "                    self.position[2],\n",
        "                    0,\n",
        "                    self.config.max_altitude\n",
        "                )\n",
        "\n",
        "                time.sleep(self.config.sensor_update_rate)\n",
        "\n",
        "            except Exception as e:\n",
        "                logger.error(f\"Control loop error: {str(e)}\")\n",
        "                self.stop()\n",
        "\n",
        "    def start(self):\n",
        "        \"\"\"Start drone operations\"\"\"\n",
        "        if not self.running:\n",
        "            self.running = True\n",
        "            self.control_thread.start()\n",
        "            logger.info(f\"Drone {self.config.drone_id} started\")\n",
        "\n",
        "    def stop(self):\n",
        "        \"\"\"Stop drone operations\"\"\"\n",
        "        self.running = False\n",
        "        if self.control_thread and self.control_thread.is_alive():\n",
        "            self.control_thread.join()\n",
        "        logger.info(f\"Drone {self.config.drone_id} stopped\")\n",
        "\n",
        "    def get_state(self) -> SensorData:\n",
        "        \"\"\"Get current drone state\"\"\"\n",
        "        return SensorData(\n",
        "            timestamp=time.time(),\n",
        "            position=tuple(self.position),\n",
        "            velocity=tuple(self.velocity),\n",
        "            orientation=tuple(self.orientation),\n",
        "            battery_level=100.0  # Simplified battery simulation\n",
        "        )\n",
        "\n",
        "# Test the drone controller\n",
        "def test_controller():\n",
        "    config = DroneConfig(\n",
        "        drone_id=\"Test_Drone_1\",\n",
        "        initial_position=(0.0, 0.0, 0.0)\n",
        "    )\n",
        "\n",
        "    controller = DroneController(config)\n",
        "    print(\"Initial state:\", controller.get_state())\n",
        "\n",
        "    controller.start()\n",
        "    time.sleep(1)  # Let it run for a second\n",
        "    print(\"State after 1 second:\", controller.get_state())\n",
        "\n",
        "    controller.stop()\n",
        "\n",
        "if __name__ == \"__main__\":\n",
        "    print(\"Testing DroneController...\")\n",
        "    test_controller()"
      ],
      "metadata": {
        "colab": {
          "base_uri": "https://localhost:8080/"
        },
        "id": "ab4vE5Hxq026",
        "outputId": "eb475e17-d28c-4598-8ac8-cc935c95349c"
      },
      "execution_count": null,
      "outputs": [
        {
          "output_type": "stream",
          "name": "stdout",
          "text": [
            "Testing DroneController...\n",
            "Initial state: SensorData(timestamp=1739003239.9565852, position=(0.0, 0.0, 0.0), velocity=(0.0, 0.0, 0.0), orientation=(0.0, 0.0, 0.0), battery_level=100.0, camera_data=None)\n",
            "State after 1 second: SensorData(timestamp=1739003240.9606838, position=(0.0, 0.0, 0.0), velocity=(0.0, 0.0, 0.0), orientation=(0.0, 0.0, 0.0), battery_level=100.0, camera_data=None)\n"
          ]
        }
      ]
    },
    {
      "cell_type": "code",
      "source": [
        "class SwarmManager:\n",
        "    \"\"\"Manager for coordinating multiple drones\"\"\"\n",
        "    def __init__(self, num_drones: int):\n",
        "        self.drones = {}\n",
        "        self.mission_status = \"standby\"\n",
        "\n",
        "        # Initialize drone fleet\n",
        "        for i in range(num_drones):\n",
        "            config = DroneConfig(\n",
        "                drone_id=f\"Drone_{i}\",\n",
        "                initial_position=(\n",
        "                    np.random.uniform(-10, 10),\n",
        "                    np.random.uniform(-10, 10),\n",
        "                    np.random.uniform(0, 10)\n",
        "                )\n",
        "            )\n",
        "            self.drones[config.drone_id] = DroneController(config)\n",
        "\n",
        "    def start_mission(self, duration: int = 60):\n",
        "        \"\"\"Start a coordinated mission\"\"\"\n",
        "        logger.info(\"Starting swarm mission...\")\n",
        "        self.mission_status = \"active\"\n",
        "\n",
        "        try:\n",
        "            # Start all drones\n",
        "            for drone in self.drones.values():\n",
        "                drone.start()\n",
        "\n",
        "            # Mission monitoring loop\n",
        "            start_time = time.time()\n",
        "            while time.time() - start_time < duration:\n",
        "                if self.mission_status != \"active\":\n",
        "                    break\n",
        "\n",
        "                # Monitor drone states\n",
        "                for drone_id, drone in self.drones.items():\n",
        "                    state = drone.get_state()\n",
        "                    logger.info(f\"Drone {drone_id} - Position: {state.position}\")\n",
        "\n",
        "                time.sleep(1)\n",
        "\n",
        "        except Exception as e:\n",
        "            logger.error(f\"Mission error: {str(e)}\")\n",
        "            self.mission_status = \"error\"\n",
        "\n",
        "        finally:\n",
        "            self.stop_mission()\n",
        "\n",
        "    def stop_mission(self):\n",
        "        \"\"\"Stop all drones and end mission\"\"\"\n",
        "        self.mission_status = \"completed\"\n",
        "        for drone in self.drones.values():\n",
        "            drone.stop()\n",
        "        logger.info(\"Mission completed\")\n",
        "\n",
        "# Test the swarm manager\n",
        "def test_swarm():\n",
        "    manager = SwarmManager(num_drones=3)\n",
        "    print(\"Starting test mission (10 seconds)...\")\n",
        "    manager.start_mission(duration=10)\n",
        "\n",
        "if __name__ == \"__main__\":\n",
        "    print(\"Testing SwarmManager...\")\n",
        "    test_swarm()"
      ],
      "metadata": {
        "colab": {
          "base_uri": "https://localhost:8080/"
        },
        "id": "4r9Nd6rxq7iQ",
        "outputId": "9c922fc5-a2be-4200-ffbc-7899eb305ba3"
      },
      "execution_count": null,
      "outputs": [
        {
          "output_type": "stream",
          "name": "stdout",
          "text": [
            "Testing SwarmManager...\n",
            "Starting test mission (10 seconds)...\n"
          ]
        }
      ]
    },
    {
      "cell_type": "code",
      "source": [
        "# Complete system test\n",
        "manager = SwarmManager(num_drones=3)\n",
        "manager.start_mission(duration=30)  # Run for 30 seconds"
      ],
      "metadata": {
        "id": "UeBDo32DrG5t"
      },
      "execution_count": null,
      "outputs": []
    }
  ]
}